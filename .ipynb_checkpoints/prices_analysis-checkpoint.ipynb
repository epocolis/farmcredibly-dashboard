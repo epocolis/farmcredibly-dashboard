{
 "cells": [
  {
   "cell_type": "code",
   "execution_count": null,
   "id": "89524cc0",
   "metadata": {},
   "outputs": [],
   "source": [
    "# default_exp agricultural_pricing_analytics"
   ]
  },
  {
   "cell_type": "code",
   "execution_count": null,
   "id": "a7e63b36",
   "metadata": {},
   "outputs": [],
   "source": [
    "#hide\n",
    "from nbdev.showdoc import *\n",
    "from nbdev.export import notebook2script"
   ]
  },
  {
   "cell_type": "code",
   "execution_count": null,
   "id": "7ca0229e",
   "metadata": {},
   "outputs": [],
   "source": [
    "#export\n",
    "import pandas as pd\n",
    "from fastcore.script import *\n",
    "from datetime import datetime\n",
    "import numpy as np\n",
    "import plotly.express as px\n"
   ]
  },
  {
   "cell_type": "markdown",
   "id": "2447b428",
   "metadata": {},
   "source": [
    "### Load the data"
   ]
  },
  {
   "cell_type": "code",
   "execution_count": null,
   "id": "817f70e1",
   "metadata": {},
   "outputs": [],
   "source": [
    "#load the retail data\n",
    "re"
   ]
  },
  {
   "cell_type": "code",
   "execution_count": null,
   "id": "0c2074e2",
   "metadata": {},
   "outputs": [],
   "source": [
    "df = pd.read_csv(\"data/output/out.csv\", header=0,delimiter=\"|\")\n",
    "df =  df[df[\"date\"] != \"date\"]\n"
   ]
  },
  {
   "cell_type": "code",
   "execution_count": null,
   "id": "8e49f12e",
   "metadata": {},
   "outputs": [],
   "source": [
    "df['date'] = df['date'].apply(lambda x: datetime.strptime(x, \"%B_%d_%Y\"))\n"
   ]
  },
  {
   "cell_type": "code",
   "execution_count": null,
   "id": "bb0d1fdb",
   "metadata": {},
   "outputs": [],
   "source": [
    "df['date'] = pd.to_datetime(df['date'], format=\"%B_%d_%Y\")\n",
    "df['date']\n",
    "df.info()\n"
   ]
  },
  {
   "cell_type": "code",
   "execution_count": null,
   "id": "ab872c7e",
   "metadata": {},
   "outputs": [],
   "source": [
    "df = df.set_index('date')"
   ]
  },
  {
   "cell_type": "code",
   "execution_count": null,
   "id": "4c43f81e",
   "metadata": {},
   "outputs": [],
   "source": [
    "df[\"high\"] = pd.to_numeric(df[\"high\"], errors='coerce')"
   ]
  },
  {
   "cell_type": "code",
   "execution_count": null,
   "id": "ec1d04ac",
   "metadata": {},
   "outputs": [],
   "source": [
    "list(df.parish.unique())"
   ]
  },
  {
   "cell_type": "code",
   "execution_count": null,
   "id": "889f2602",
   "metadata": {},
   "outputs": [],
   "source": []
  },
  {
   "cell_type": "code",
   "execution_count": null,
   "id": "2a2cecc5",
   "metadata": {},
   "outputs": [],
   "source": [
    "df_yam = df.query(\"commodity == 'yam' and parish in ['Manchester','St. Andrew','St. Catherine','Clarendon','Portland', 'St. Elizabeth','Westmoreland','Hanover','St. James','Trelawny','St. Ann','St. Mary','Portland','St. Thomas']\" )\n",
    "df_yam = df_yam.dropna()\n",
    "\n",
    "fig = px.scatter(df_yam, x=\"date\", \n",
    "                 y=\"low\",\n",
    "                 title='Price', \n",
    "                 color='variety source',\n",
    "                 size=\"high\",hover_data=['parish','variety source','high','low','supply'],\n",
    "                 facet_col_wrap=3,\n",
    "                 \n",
    "                )\n",
    "fig.update_xaxes(rangeslider_visible=True)\n",
    "\n",
    "fig.show()"
   ]
  },
  {
   "cell_type": "code",
   "execution_count": null,
   "id": "266770a3",
   "metadata": {},
   "outputs": [],
   "source": [
    "fig = px.histogram(df_yam, x=\"date\", \n",
    "                 y=\"high\",\n",
    "                 title='Price', \n",
    "                 color='variety source',\n",
    "                 hover_data=['parish','variety source','high','low','supply'],\n",
    "                 facet_col_wrap=3,\n",
    "                 histfunc=\"max\",\n",
    "                 facet_col='parish' \n",
    "                )\n",
    "\n",
    "fig.show()\n"
   ]
  },
  {
   "cell_type": "code",
   "execution_count": null,
   "id": "a95c277d",
   "metadata": {},
   "outputs": [],
   "source": [
    "import plotly.express as px\n",
    "\n",
    "fig = px.box(df_yam, x = \"high\")\n",
    "fig.show()\n"
   ]
  },
  {
   "cell_type": "code",
   "execution_count": null,
   "id": "41800744",
   "metadata": {},
   "outputs": [],
   "source": [
    "fig = px.strip(df_yam, x='date', y='high')\n",
    "fig.show()"
   ]
  },
  {
   "cell_type": "code",
   "execution_count": null,
   "id": "a98e0e2c",
   "metadata": {},
   "outputs": [],
   "source": [
    "fig = px.histogram(df_yam, x=\"low\")\n",
    "fig.show()"
   ]
  },
  {
   "cell_type": "code",
   "execution_count": null,
   "id": "1e840734",
   "metadata": {},
   "outputs": [],
   "source": [
    "fig = px.density_heatmap(df_yam, x=\"date\", y=\"high\")\n",
    "fig.show()"
   ]
  },
  {
   "cell_type": "code",
   "execution_count": null,
   "id": "db422332",
   "metadata": {},
   "outputs": [],
   "source": []
  }
 ],
 "metadata": {
  "kernelspec": {
   "display_name": "Python 3 (ipykernel)",
   "language": "python",
   "name": "python3"
  },
  "language_info": {
   "codemirror_mode": {
    "name": "ipython",
    "version": 3
   },
   "file_extension": ".py",
   "mimetype": "text/x-python",
   "name": "python",
   "nbconvert_exporter": "python",
   "pygments_lexer": "ipython3",
   "version": "3.8.11"
  }
 },
 "nbformat": 4,
 "nbformat_minor": 5
}
