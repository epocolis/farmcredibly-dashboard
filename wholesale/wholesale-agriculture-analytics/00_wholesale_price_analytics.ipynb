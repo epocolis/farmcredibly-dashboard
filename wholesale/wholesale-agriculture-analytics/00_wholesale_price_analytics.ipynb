{
 "cells": [
  {
   "cell_type": "code",
   "execution_count": null,
   "metadata": {},
   "outputs": [],
   "source": [
    "# default_exp wholesale_price_analytics"
   ]
  },
  {
   "cell_type": "markdown",
   "metadata": {},
   "source": [
    "# Wholesale Price Analytics\n",
    "\n",
    "> API details."
   ]
  },
  {
   "cell_type": "code",
   "execution_count": null,
   "metadata": {},
   "outputs": [],
   "source": [
    "#hide\n",
    "from nbdev.showdoc import *"
   ]
  },
  {
   "cell_type": "code",
   "execution_count": null,
   "metadata": {},
   "outputs": [],
   "source": [
    "#export\n",
    "import pandas as pd\n",
    "from fastcore.script import *"
   ]
  },
  {
   "cell_type": "code",
   "execution_count": null,
   "metadata": {},
   "outputs": [
    {
     "name": "stdout",
     "output_type": "stream",
     "text": [
      "Collecting pdftotext\n",
      "  Using cached pdftotext-2.2.0.tar.gz (113 kB)\n",
      "Building wheels for collected packages: pdftotext\n",
      "  Building wheel for pdftotext (setup.py) ... \u001b[?25ldone\n",
      "\u001b[?25h  Created wheel for pdftotext: filename=pdftotext-2.2.0-cp38-cp38-linux_x86_64.whl size=66673 sha256=d640568fa73c8d27b8112662fd49be36e8042df009e95018af443a47bbf2ace1\n",
      "  Stored in directory: /home/rasta/.cache/pip/wheels/f9/c4/d5/093622266ee915c03f8cd5165cc119cc2e356d548d8fd3c1b0\n",
      "Successfully built pdftotext\n",
      "Installing collected packages: pdftotext\n",
      "Successfully installed pdftotext-2.2.0\n"
     ]
    }
   ],
   "source": [
    "# hide\n",
    "!pip install pdftotext"
   ]
  },
  {
   "cell_type": "code",
   "execution_count": null,
   "metadata": {},
   "outputs": [],
   "source": [
    "#export\n",
    "import PyPDF2\n",
    "import pdftotext\n",
    "import pandas as pd\n",
    "import os"
   ]
  },
  {
   "cell_type": "code",
   "execution_count": null,
   "metadata": {},
   "outputs": [],
   "source": [
    "#export\n",
    "def create_header(pdftotext_lines:list):\n",
    "    header_index = 4\n",
    "    header = pdftotext_lines[header_index].split()\n",
    "    temp = header[3:]\n",
    "    temp[0:] = [header[0]]\n",
    "    temp.insert(1, \"Variety source\")\n",
    "    temp[2:]  = [header[4]+ \" \" + header[5]]\n",
    "    temp[3:]  = [header[6]+ \" \" + header[7]]\n",
    "    temp[4:]  = [header[8]+ \" \" + header[9] + \" \" + header[10]]\n",
    "    return temp"
   ]
  },
  {
   "cell_type": "code",
   "execution_count": null,
   "metadata": {},
   "outputs": [],
   "source": [
    "#export\n",
    "def remove_empty_items(lst:list):\n",
    "    return list(filter(lambda item: len(item.lstrip()) > 0,  lst) )  \n"
   ]
  },
  {
   "cell_type": "code",
   "execution_count": null,
   "metadata": {},
   "outputs": [],
   "source": [
    "#export\n",
    "def remove_surrounding_spaces_from_items(lst:list):\n",
    "    return list(map(lambda item: item.lstrip(),  lst) )  "
   ]
  },
  {
   "cell_type": "code",
   "execution_count": null,
   "metadata": {},
   "outputs": [],
   "source": [
    "#export\n",
    "def get_data(pdftotext_lines:list):\n",
    "    data = [] \n",
    "    lines = pdftotext_lines[9:]\n",
    "    for line in lines:\n",
    "        if  \"Prepared\" in line:\n",
    "            continue\n",
    "        if \"Commodity\" in line:\n",
    "            continue\n",
    "        if \"Ministry\" in line:\n",
    "            continue\n",
    "        if \"Kingston\" in line:\n",
    "            continue\n",
    "        if \"Commerce\" in line:\n",
    "            continue\n",
    "        if \"Week\" in line:\n",
    "            continue\n",
    "        if \"Fisheries\" in line: \n",
    "            continue\n",
    "        d = remove_empty_items(line.split('   '))\n",
    "        d = remove_surrounding_spaces_from_items(d)\n",
    "        data.append(d)\n",
    "        \n",
    "    \n",
    "    return data\n"
   ]
  },
  {
   "cell_type": "code",
   "execution_count": null,
   "metadata": {},
   "outputs": [],
   "source": [
    "#export\n",
    "def write_to_csv(data, report_date,  output_directory):\n",
    "   \n",
    "    output_dir = f\"{output_directory}/{report_date}\"\n",
    "    try:\n",
    "        os.mkdir(output_dir) \n",
    "    except OSError as error: \n",
    "        print(f\"{output_dir} already exists,not recreating\")      \n",
    " \n",
    "    df = pd.DataFrame(data)\n",
    "    out = f\"{output_dir}/kingston_supermarket_prices_{report_date}.csv\"\n",
    "    print(f\"writing data to: {out}\")\n",
    "    df.to_csv(out,sep=\"|\" ,index=False, header=False)  \n",
    "   "
   ]
  },
  {
   "cell_type": "code",
   "execution_count": null,
   "metadata": {},
   "outputs": [],
   "source": [
    "#export  \n",
    "def get_report_date(pdftotext_lines:list):\n",
    "    date = pdftotext_lines[2]\n",
    "    date = date.replace(\"Week\",\"\")\n",
    "    date = date.replace(\"Ending\",\"\").replace(\"\\n\",\"\").lower().lstrip().replace(\" \",\"_\").replace(\",\",\"\")\n",
    "    return date"
   ]
  },
  {
   "cell_type": "code",
   "execution_count": null,
   "metadata": {},
   "outputs": [],
   "source": [
    "#export\n",
    "def run(input_path:str, output_directory = \".\"):\n",
    "    with open(input_path, 'rb') as file:\n",
    "        pdf_text = pdftotext.PDF(file)\n",
    "        pdf_text_lines = (\"\\n\\n\".join(pdf_text).splitlines())\n",
    "        pdftotext_lines = [ln for ln in  pdf_text_lines if ln]\n",
    "        report_date = get_report_date(pdftotext_lines)\n",
    "        print(report_date.lstrip())\n",
    "        header =  create_header(pdftotext_lines)\n",
    "        data = get_data(pdftotext_lines)\n",
    "        data[:0] =[header]\n",
    "        write_to_csv(data, report_date, output_directory)\n",
    "    \n"
   ]
  },
  {
   "cell_type": "code",
   "execution_count": null,
   "metadata": {},
   "outputs": [],
   "source": [
    "input_path=\"../data/raw/wholesale_09.04.2021.pdf\"\n",
    "output_directory = \"../data/output\"\n",
    "\n",
    "run(input_path,output_directory)        "
   ]
  },
  {
   "cell_type": "code",
   "execution_count": null,
   "metadata": {},
   "outputs": [
    {
     "name": "stdout",
     "output_type": "stream",
     "text": [
      "Commodity|Variety source|Lowest Price|Highest Price|Most Frequent Price\n",
      "Cabbage (Red)|Local|-|-|-\n",
      "Callaloo|Shredded|$286|$308|$297\n",
      "Callaloo|Whole|$154|$154|$154\n",
      "Cantaloupe|Imported|-|-|-\n",
      "Cantaloupe|Local|$198|$264|$227.33\n",
      "Carrot|Local|$264|$330|$330\n",
      "Cauliflower|Imported|-|-|-\n",
      "Cauliflower|Local|$620|$660|$620\n",
      "Coco|Local|$330|$440|$330\n"
     ]
    }
   ],
   "source": [
    "!head ../data/output/september_04_2021/kingston_supermarket_prices_september_04_2021.csv"
   ]
  },
  {
   "cell_type": "code",
   "execution_count": null,
   "metadata": {},
   "outputs": [],
   "source": [
    "#export\n",
    "@call_parse\n",
    "def main(input_path:Param(\"The urban municipal prices file path\", str),\n",
    "         output_folder:Param(\"where the converted file should be written\", str),\n",
    "      ):\n",
    "    \"Clean up the input file and generates individual parish farm gate prices in the specified output folder\"\n",
    "    print(f\"input path:{input_path}\")\n",
    "    run(input_path, output_folder)\n"
   ]
  }
 ],
 "metadata": {
  "kernelspec": {
   "display_name": "Python 3.8.10 64-bit",
   "name": "python3"
  }
 },
 "nbformat": 4,
 "nbformat_minor": 2
}
