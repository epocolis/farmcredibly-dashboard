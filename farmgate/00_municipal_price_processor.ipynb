{
 "cells": [
  {
   "cell_type": "code",
   "execution_count": 1,
   "metadata": {},
   "outputs": [],
   "source": [
    "# default_exp urban_municipal_price_processor"
   ]
  },
  {
   "cell_type": "markdown",
   "metadata": {},
   "source": [
    "# Urban Municipal Pricing Analytics\n",
    "\n",
    "> API details."
   ]
  },
  {
   "cell_type": "code",
   "execution_count": 8,
   "metadata": {},
   "outputs": [],
   "source": [
    "#hide\n",
    "from nbdev.showdoc import *\n",
    "from nbdev.export import notebook2script"
   ]
  },
  {
   "cell_type": "code",
   "execution_count": 328,
   "metadata": {},
   "outputs": [],
   "source": [
    "#export\n",
    "import pandas as pd\n",
    "from fastcore.script import *"
   ]
  },
  {
   "cell_type": "code",
   "execution_count": 34,
   "metadata": {},
   "outputs": [],
   "source": [
    "#export \n",
    "def open_file(path:str):\n",
    "    lines = None\n",
    "    try:\n",
    "        with open(path) as file:\n",
    "            lines = file.readlines()\n",
    "    except Exception as e:\n",
    "        print(f\"unable to open file:{path}\")  \n",
    "        print(f\"the following error occcurred: {e}\")      \n",
    "    return lines"
   ]
  },
  {
   "cell_type": "code",
   "execution_count": 297,
   "metadata": {},
   "outputs": [],
   "source": [
    "#export\n",
    "class UrbanMunicipalMarketPrices:\n",
    "    def __init__(self,date:str,company:str,headers:list,data,locations:list):\n",
    "        self.company = company\n",
    "        self.date = date\n",
    "        self.headers = headers\n",
    "        self.data = data \n",
    "        self.locations = locations\n",
    "    def __repr__(self):\n",
    "        x = {\n",
    "            \n",
    "             \"header\":self.headers,\n",
    "             \"data\" : self.data[0:10],\n",
    "             \n",
    "          \n",
    "          }\n",
    "        return f\"{x}\"    \n",
    "\n"
   ]
  },
  {
   "cell_type": "code",
   "execution_count": 367,
   "metadata": {},
   "outputs": [],
   "source": [
    "#export\n",
    "class  UrbanMunicipalMarketPricesFactory:\n",
    "\n",
    "    \n",
    "    def __init__(self,data_list:list):\n",
    "        self.date = (self.__get_date(data_list)).lower().replace(\",\",\"_\").replace(\" \",\"_\").replace(\"__\",\"_\")\n",
    "        self.company= self.__get_company(data_list)\n",
    "        self.headers = self.__get_headers(data_list)\n",
    "        self.locations = self.__get_locations(data_list)\n",
    "        self.data = self.__get_data(data_list)\n",
    "        u = UrbanMunicipalMarketPrices(self.date,self.company,self.headers[:13],self.data,self.locations)\n",
    "        \n",
    "\n",
    "    def __get_date(self,data_list):\n",
    "        date = (data_list[1]\n",
    "        .replace(\"Week\",\"\")\n",
    "        .replace(\"Ending\",\"\")\n",
    "        .replace(\"|\",\"\")\n",
    "        .replace(\"\\n\",\"\")\n",
    "        .replace('\"',\"\").lstrip())\n",
    "        return date \n",
    "    def __get_company(self,data_list):\n",
    "        company = data_list[2].replace(\"\\n\",\"\")\n",
    "        return company\n",
    "    def __get_headers(self,data_list):\n",
    "        headers = data_list[9].split(\"|\")\n",
    "        headers = list(map(lambda s:s.replace(\"\\n\",''), headers))\n",
    "        \n",
    "        headers[:0] = [\"market\"]\n",
    "        headers[:0] = [\"date\"]\n",
    "        return headers\n",
    "\n",
    "    def __get_data(self,data_list):\n",
    "        headers = data_list[9].split(\"|\")\n",
    "        headers[:0] = [\"market\"]\n",
    "        headers[:0] = [\"date\"]\n",
    "        headers = { idx:val for idx ,val in enumerate(headers)}\n",
    "    \n",
    "        data = []\n",
    "        price_data = data_list[10:]\n",
    "        for row in price_data:\n",
    "            if \"http\" in row:\n",
    "                continue\n",
    "            if \"Prepared\" in row:\n",
    "                continue\n",
    "            row = row.split(\"|\")\n",
    "            row[:0] = [\"market\"]\n",
    "            row[:0] = [\"date\"]\n",
    "            row = { idx:val for idx ,val in enumerate(row)}\n",
    "            data.append(row)\n",
    "        \n",
    "\n",
    "\n",
    "        clean_header = []\n",
    "        for key, value in headers.items():\n",
    "            if key in [0,1,2,4,8,11,12]:\n",
    "                clean_header.append(value)\n",
    "        print(clean_header)\n",
    "        # get the papine data\n",
    "\n",
    "        papine_data = []\n",
    "        coronation_data = []\n",
    "        cross_roads_data = []\n",
    "        markets = [\"papine\",\"coronation\",\"cross_roads\"]\n",
    "\n",
    "        for row in data:\n",
    "            p_row = []\n",
    "            cor_row = []\n",
    "            crss_row = []\n",
    "        \n",
    "            for key, value in row.items():\n",
    "        \n",
    "                value = value.replace(\"\\n\",\"\")\n",
    "                if key in [2,4,8,11,12]:\n",
    "                    p_row.append(value)\n",
    "                    \n",
    "\n",
    "                if key in [2,4,17,19,20]: \n",
    "                    cor_row.append(value)  \n",
    "                \n",
    "\n",
    "                if key in [2,4,22,23,25]: \n",
    "                    crss_row.append(value)\n",
    "                \n",
    "\n",
    "            p_row[:0] = [markets[0]]\n",
    "            p_row[:0] = [self.date]  \n",
    "\n",
    "            cor_row[:0]= [markets[1]]\n",
    "            cor_row[:0]= [self.date]\n",
    "\n",
    "            crss_row[:0] = [markets[2]]\n",
    "            crss_row[:0] = [self.date]\n",
    "\n",
    "\n",
    "            papine_data.extend([p_row])\n",
    "            coronation_data.extend([cor_row])\n",
    "            cross_roads_data.extend([crss_row])\n",
    "\n",
    "        data = []\n",
    "        data.extend(papine_data)\n",
    "        data.extend(cross_roads_data)\n",
    "        data.extend(coronation_data)\n",
    "        return data\n",
    "\n",
    "  \n",
    "    def __get_locations(self,data_list):\n",
    "        locations = data_list[7].split(\"|\")\n",
    "        locations = list(filter(lambda loc: len(loc) >3, locations))\n",
    "        return locations\n",
    "\n",
    "    def write_to_csv(self,output_directory):\n",
    "        import pandas as pd\n",
    "        import os\n",
    "        output_dir = f\"{output_directory}/{self.date}\"\n",
    "        try:\n",
    "            os.mkdir(output_dir) \n",
    "        except OSError as error: \n",
    "            print(f\"{output_dir} already exists,not recreating\")      \n",
    "\n",
    "        df = pd.DataFrame(self.data)\n",
    "        df.to_csv(f\"{output_dir}/urban_municipal_market_prices_{self.date}.csv\",sep=\"|\" ,index=False, header=False)  \n",
    "\n",
    "\n"
   ]
  },
  {
   "cell_type": "code",
   "execution_count": 365,
   "metadata": {},
   "outputs": [],
   "source": [
    "#export\n",
    "def process_municipal_price_data(input_path:str, output_directory = \".\"):\n",
    "    lines = open_file(input_path)\n",
    "    factory = UrbanMunicipalMarketPricesFactory(lines)        \n",
    "    factory.write_to_csv(output_directory)\n",
    "    print(\"Success :-)\")"
   ]
  },
  {
   "cell_type": "code",
   "execution_count": 356,
   "metadata": {},
   "outputs": [],
   "source": [
    "#export\n",
    "@call_parse\n",
    "def main(input_path:Param(\"The urban municipal prices file path\", str),\n",
    "         output_folder:Param(\"where the converted file should be written\", str),\n",
    "      ):\n",
    "    \"Clean up the input file and generates individual parish farm gate prices in the specified output folder\"\n",
    "    print(f\"input path:{input_path}\")\n",
    "    process_municipal_price_data(input_path, output_folder)"
   ]
  },
  {
   "cell_type": "code",
   "execution_count": 366,
   "metadata": {},
   "outputs": [
    {
     "name": "stdout",
     "output_type": "stream",
     "text": [
      "Converted 00_municipal_analytics.ipynb.\n",
      "Converted index.ipynb.\n"
     ]
    }
   ],
   "source": [
    "notebook2script()"
   ]
  }
 ],
 "metadata": {
  "interpreter": {
   "hash": "e7370f93d1d0cde622a1f8e1c04877d8463912d04d973331ad4851f04de6915a"
  },
  "kernelspec": {
   "display_name": "Python 3 (ipykernel)",
   "language": "python",
   "name": "python3"
  },
  "language_info": {
   "codemirror_mode": {
    "name": "ipython",
    "version": 3
   },
   "file_extension": ".py",
   "mimetype": "text/x-python",
   "name": "python",
   "nbconvert_exporter": "python",
   "pygments_lexer": "ipython3",
   "version": "3.8.11"
  }
 },
 "nbformat": 4,
 "nbformat_minor": 2
}
