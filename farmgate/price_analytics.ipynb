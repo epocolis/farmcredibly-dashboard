{
 "cells": [
  {
   "cell_type": "code",
   "execution_count": 1,
   "source": [
    "#default_exp price_analytics"
   ],
   "outputs": [],
   "metadata": {}
  },
  {
   "cell_type": "code",
   "execution_count": 4,
   "source": [
    "#export \n",
    "#hide\n",
    "import sys\n",
    "from nbdev.showdoc import *\n",
    "from nbdev.export import notebook2script\n",
    "import pandas as pd\n",
    "from fastcore.script import *\n",
    "import click\n",
    "from farm_analytics.farm_gate_price_processor import process_farm_gate_data\n",
    "from farm_analytics.wholesale_price_processor import process_wholesale_price_data\n",
    "from farm_analytics.urban_municipal_price_processor import process_municipal_price_data\n",
    "from farm_analytics.retail_price_processor import process_retail_price_data\n",
    "\n"
   ],
   "outputs": [],
   "metadata": {}
  },
  {
   "cell_type": "code",
   "execution_count": 5,
   "source": [
    "#export\n",
    "@click.command()\n",
    "@click.option('-t', \"--data-type\", \n",
    "type=click.Choice(['farmgate','retail','markets','wholesale']), required=True)\n",
    "@click.argument('input_file', required=True,type=str)\n",
    "@click.argument('output_directory', required=True, type=str)\n",
    "def food_price_analytics(data_type,input_file, output_directory):\n",
    "    \n",
    "    \"Clean up the input file and generates individual parish farm gate prices in the specified output folder\"\n",
    "    print(f\"input path:{input_file}\")\n",
    "    print(f\"output_directory:{output_directory}\")\n",
    "    print(f\"data type {data_type}\")\n",
    "    if data_type.lower() == \"farmgate\":\n",
    "        print(\"running farmgate\")\n",
    "        process_farm_gate_data(input_file, output_directory)\n",
    "    if data_type.lower() == \"retail\":\n",
    "        process_retail_price_data(input_file,output_directory)\n",
    "        return\n",
    "    if data_type.lower() == \"markets\":\n",
    "        process_municipal_price_data(input_file,output_directory)\n",
    "        return\n",
    "    if data_type.lower() == \"wholesale\":\n",
    "        process_wholesale_price_data(input_file,output_directory)\n",
    "        return\n",
    "\n",
    "    print(\"You entered and invalid dataype option\")\n",
    "    sys.exit(-1)"
   ],
   "outputs": [],
   "metadata": {}
  }
 ],
 "metadata": {
  "orig_nbformat": 4,
  "language_info": {
   "name": "python",
   "version": "3.8.10",
   "mimetype": "text/x-python",
   "codemirror_mode": {
    "name": "ipython",
    "version": 3
   },
   "pygments_lexer": "ipython3",
   "nbconvert_exporter": "python",
   "file_extension": ".py"
  },
  "kernelspec": {
   "name": "python3",
   "display_name": "Python 3.8.10 64-bit ('venv': venv)"
  },
  "interpreter": {
   "hash": "3d69c493578a757b5b1a57759b12498ad1a83a788ddbdde9f8b7793c1816e543"
  }
 },
 "nbformat": 4,
 "nbformat_minor": 2
}