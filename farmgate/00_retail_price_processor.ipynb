{
 "cells": [
  {
   "cell_type": "code",
   "execution_count": null,
   "source": [
    "# default_exp retail_price_processor"
   ],
   "outputs": [],
   "metadata": {}
  },
  {
   "cell_type": "markdown",
   "source": [
    "# Retail Price Analytics\n",
    "\n",
    "> API details."
   ],
   "metadata": {}
  },
  {
   "cell_type": "code",
   "execution_count": null,
   "source": [
    "#hide\n",
    "from nbdev.showdoc import *"
   ],
   "outputs": [],
   "metadata": {}
  },
  {
   "cell_type": "code",
   "execution_count": null,
   "source": [
    "#export\n",
    "import pandas as pd\n",
    "from fastcore.script import *"
   ],
   "outputs": [],
   "metadata": {}
  },
  {
   "cell_type": "code",
   "execution_count": null,
   "source": [
    "#export\n",
    "class Constants:\n",
    "    DATA_START_INDEX = 27\n",
    "    VALID_DATA_ROW_LENGTH = 39\n",
    "    LOCATIONS = {\n",
    "    8:(\"sampars\",\"cross roads\"), \n",
    "    10:(\"hi-lo\",\"cross roads\"),\n",
    "    12:(\"mega mart\",\"waterloo road\"),\n",
    "    15:(\"John R Wong\",\"new kingston\"),\n",
    "    18:(\"Brooklyn\",\"halfway tree\"),\n",
    "    20:(\"hi-lo\",\"halfway tree\"),\n",
    "    22:(\"shopper's fair\",\"washington boulevard\"),\n",
    "    24:(\"shopper's fair\",\"Duhaney Park\"),\n",
    "    26:(\"Loshusan\",\"barbican road\"),\n",
    "    29:(\"hi-lo\",\"barbican road\"),\n",
    "    31:(\"hi-lo\",\"constant spring\"),\n",
    "    34:(\"shoppers fair\",\"harbour view\"),\n",
    "    35:(\"lee's food\",\"red hills road\"), \n",
    "    36:(\"price smart\",\"red hills road\"),\n",
    "    37:(\"mega mart\",\"portmore\"),\n",
    "    38:(\"hi-lo\",\"portmore\")\n",
    "    }\n"
   ],
   "outputs": [],
   "metadata": {}
  },
  {
   "cell_type": "code",
   "execution_count": null,
   "source": [
    "def is_row_not_empty(row):\n",
    "    row = list(filter(lambda item: len(item.replace(\" \",\"\").lstrip()) > 0, row))\n",
    "    return False if len(row) == 0 else True\n",
    "\n",
    "row = [\"  \",\" \", \" \"]\n",
    "is_row_not_empty(row)\n"
   ],
   "outputs": [
    {
     "output_type": "execute_result",
     "data": {
      "text/plain": [
       "False"
      ]
     },
     "metadata": {},
     "execution_count": null
    }
   ],
   "metadata": {}
  },
  {
   "cell_type": "code",
   "execution_count": null,
   "source": [
    "#export\n",
    "def is_row_not_empty(row:list):\n",
    "        row = list(filter(lambda item: len(str(item).lstrip()) > 0, row))\n",
    "        return False if len(row) == 0 else True  \n",
    "\n",
    "def convert_list_to_dict(source:list):\n",
    "        dct = { idx:val for idx ,val in enumerate(source)}\n",
    "        return dct      "
   ],
   "outputs": [],
   "metadata": {}
  },
  {
   "cell_type": "code",
   "execution_count": null,
   "source": [
    "#export  \n",
    "class RetailPricesAnalyzer:\n",
    "    def __init__(self,raw_data:str):\n",
    "        self.raw_data = raw_data\n",
    "        self.report_date =  self.__get_report_date(raw_data)\n",
    "        self.data = self.format_data(raw_data)\n",
    "\n",
    "      \n",
    "\n",
    "    def __get_report_date(self,raw_data):\n",
    "        return \"september_04_2021\" \n",
    "\n",
    "    \n",
    "    def format_data(self,raw_data:list):\n",
    "        data_rows = self.__get_data(raw_data)\n",
    "        header_row = [\"date\", \"commodity\",\"variety-source\",\"region\",\"store\",\"price\"]\n",
    "        formatted_data = []\n",
    "        for row in data_rows: \n",
    "            # get location\n",
    "            for key,value in Constants.LOCATIONS.items():\n",
    "                commodity = row[0]\n",
    "                variety_source = row[4]\n",
    "                store, location = value\n",
    "                price = row[key].replace(\"\\n\",\"\")\n",
    "                store_data = [self.report_date,commodity,variety_source,location,store,price]\n",
    "                formatted_data.append(store_data)\n",
    "                \n",
    "\n",
    "        formatted_data[:0] = [header_row]\n",
    "        return formatted_data\n",
    "   \n",
    "    \n",
    "    def __get_data(self,raw_data):\n",
    "        data  = []\n",
    "        products_list = raw_data[Constants.DATA_START_INDEX:] \n",
    "        for row in products_list: \n",
    "            row = row.split(\"|\")\n",
    "            # convert each row to a dictionary\n",
    "            if len(row) == Constants.VALID_DATA_ROW_LENGTH:\n",
    "                # print(row)\n",
    "                if is_row_not_empty(row):\n",
    "                    row = convert_list_to_dict(row)\n",
    "                    data.append(row)\n",
    "             \n",
    "           \n",
    "        return data   \n",
    "\n",
    "    def write_to_csv(self,output_directory):\n",
    "        import pandas as pd\n",
    "        import os\n",
    "        output_dir = f\"{output_directory}/{self.report_date}\"\n",
    "        try:\n",
    "            os.mkdir(output_dir) \n",
    "        except OSError as error: \n",
    "            print(f\"{output_dir} already exists,not recreating\")      \n",
    "\n",
    " \n",
    "        df = pd.DataFrame(self.data)\n",
    "        out = f\"{output_dir}/retail_prices_{self.report_date}.csv\"\n",
    "        print(f\"writing data to: {out}\")\n",
    "        df.to_csv(out,sep=\"|\" ,index=False, header=False)     \n"
   ],
   "outputs": [],
   "metadata": {}
  },
  {
   "cell_type": "code",
   "execution_count": null,
   "source": [
    "#export \n",
    "def open_file(path:str):\n",
    "    lines = None\n",
    "    try:\n",
    "        with open(path) as file:\n",
    "            lines = file.readlines()\n",
    "    except Exception as e:\n",
    "        print(f\"unable to open file:{path}\")  \n",
    "        print(f\"the following error occcurred: {e}\")      \n",
    "    return lines"
   ],
   "outputs": [],
   "metadata": {}
  },
  {
   "cell_type": "code",
   "execution_count": null,
   "source": [
    "#export\n",
    "def process_retail_price_data(input_path:str, output_directory = \".\"):\n",
    "    lines = open_file(input_path)\n",
    "    analyzer = RetailPricesAnalyzer(lines)        \n",
    "    analyzer.write_to_csv(output_directory)\n",
    "    print(\"Success :-)\")"
   ],
   "outputs": [],
   "metadata": {}
  },
  {
   "cell_type": "code",
   "execution_count": null,
   "source": [
    "input_path = \"../data/raw/retail_01.16.2021.csv\"\n",
    "output_directory = \"../data/output\"\n",
    "run(input_path,output_directory)\n",
    "!ls ../data/output/september_04_2021/"
   ],
   "outputs": [
    {
     "output_type": "stream",
     "name": "stdout",
     "text": [
      "../data/output/september_04_2021 already exists,not recreating\n",
      "writing data to: ../data/output/september_04_2021/retail_prices_september_04_2021.csv\n",
      "Success :-)\n",
      "retail_prices_september_04_2021.csv\n"
     ]
    }
   ],
   "metadata": {}
  },
  {
   "cell_type": "code",
   "execution_count": null,
   "source": [
    "#export\n",
    "@call_parse\n",
    "def main(input_path:Param(\"The urban municipal prices file path\", str),\n",
    "         output_folder:Param(\"where the converted file should be written\", str),\n",
    "      ):\n",
    "    \"Clean up the input file and generates individual parish farm gate prices in the specified output folder\"\n",
    "    print(f\"input path:{input_path}\")\n",
    "    run(input_path, output_folder)"
   ],
   "outputs": [],
   "metadata": {}
  }
 ],
 "metadata": {
  "kernelspec": {
   "display_name": "Python 3.8.10 64-bit",
   "name": "python3"
  }
 },
 "nbformat": 4,
 "nbformat_minor": 2
}